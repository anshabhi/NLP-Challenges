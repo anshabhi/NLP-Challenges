{
 "cells": [
  {
   "cell_type": "markdown",
   "metadata": {},
   "source": [
    "# Heroes and Heroines, Villains and Villainesses\n",
    "\n",
    "\n",
    "The basic approach to this problem is same as any typical NLP problem: make a test and training set, and make predictions. However, the catch here is that we are not allowed to use any Machine Learning Library. Thus, we need to use some core Python methods to solve this problem.\n",
    "\n",
    "The following methodology has been used:\n",
    "\n",
    "* Read in the `corpus.txt` file, and clean it and convert to all small letters.\n",
    "* After this, we tokenize the corpus.\n",
    "* Next, we read all the names whose gender has to be predicted.\n",
    "* This step is one of the most important steps. We create two `sets`, namely `males` and `females`. Both the datasets contain a list of some of the most assoicated words with males and females respectively. \n",
    "* The accuracy of our model depends a lot on these two sets. The larger and more relevant they are, the more accurate our model is likely to be.\n",
    "* For every name in the input data, we check for every line the corpus, and 20 words below and after it.\n",
    "* If a word matching in male dataset is obtained, we increment the Male score, and if we find a word matching in female dataset, we increment the Female Score.\n",
    "* The gender which has the highest score is printed as result for the name.\n",
    "\n",
    "\n",
    "### Getting and Cleaning Data"
   ]
  },
  {
   "cell_type": "code",
   "execution_count": 1,
   "metadata": {},
   "outputs": [
    {
     "ename": "FileNotFoundError",
     "evalue": "[Errno 2] No such file or directory: 'corpus.txt'",
     "output_type": "error",
     "traceback": [
      "\u001b[1;31m---------------------------------------------------------------------------\u001b[0m",
      "\u001b[1;31mFileNotFoundError\u001b[0m                         Traceback (most recent call last)",
      "\u001b[1;32m<ipython-input-1-c6f5e6233626>\u001b[0m in \u001b[0;36m<module>\u001b[1;34m\u001b[0m\n\u001b[0;32m      1\u001b[0m \u001b[1;32mimport\u001b[0m \u001b[0mre\u001b[0m\u001b[1;33m\u001b[0m\u001b[0m\n\u001b[0;32m      2\u001b[0m \u001b[1;32mimport\u001b[0m \u001b[0msys\u001b[0m\u001b[1;33m\u001b[0m\u001b[0m\n\u001b[1;32m----> 3\u001b[1;33m \u001b[1;32mwith\u001b[0m \u001b[0mopen\u001b[0m\u001b[1;33m(\u001b[0m\u001b[1;34m'corpus.txt'\u001b[0m\u001b[1;33m)\u001b[0m \u001b[1;32mas\u001b[0m \u001b[0mf\u001b[0m\u001b[1;33m:\u001b[0m\u001b[1;33m\u001b[0m\u001b[0m\n\u001b[0m\u001b[0;32m      4\u001b[0m     \u001b[0mcorpus\u001b[0m \u001b[1;33m=\u001b[0m \u001b[0mf\u001b[0m\u001b[1;33m.\u001b[0m\u001b[0mread\u001b[0m\u001b[1;33m(\u001b[0m\u001b[1;33m)\u001b[0m\u001b[1;33m\u001b[0m\u001b[0m\n\u001b[0;32m      5\u001b[0m \u001b[1;33m\u001b[0m\u001b[0m\n",
      "\u001b[1;31mFileNotFoundError\u001b[0m: [Errno 2] No such file or directory: 'corpus.txt'"
     ]
    }
   ],
   "source": [
    "import re\n",
    "import sys\n",
    "with open('corpus.txt') as f:\n",
    "    corpus = f.read()\n",
    "\n",
    "pattern = re.compile(r\" |:|;|,|-|\\n|'|\\.|\\\"|\\'|!\")\n",
    "corpus = pattern.split(corpus.lower())\n",
    "corpus = [w.strip() for w in corpus]\n",
    "corpus = [w for w in corpus if len(w) > 1]"
   ]
  },
  {
   "cell_type": "markdown",
   "metadata": {},
   "source": [
    "In these steps, we input the corpus and clean it.\n",
    "\n",
    "\n",
    "### Read the input"
   ]
  },
  {
   "cell_type": "code",
   "execution_count": null,
   "metadata": {},
   "outputs": [],
   "source": [
    "N = int(input())\n",
    "\n",
    "names = sys.stdin.readlines()\n"
   ]
  },
  {
   "cell_type": "markdown",
   "metadata": {},
   "source": [
    "### Create the males and females dataset"
   ]
  },
  {
   "cell_type": "code",
   "execution_count": null,
   "metadata": {},
   "outputs": [],
   "source": [
    "males = set(['he', 'his', 'him', 'himself', 'father', 'brother', 'uncle', 'half-brother', 'halfbrother', 'son', 'boy','boys', 'dad', 'grandfather', 'king', 'nephew', 'actor', 'steward', 'barman', 'groom', 'chairman', 'man', 'gentleman', 'hero', 'host', 'husband', 'landlord', 'lord', 'monk', 'prince', 'waiter', 'widower', 'character', 'marquis', 'earl', 'italian', 'sir', 'cousin', 'englishman', 'attack', 'war', 'ranger', 'businessman', 'crowned','co-founder','fisherman','technology','engineering','slays','intemperate', 'washerman,', 'berating', 'wayward', 'kill','buried','ruin','settle','exile','verses','cocky','abusive','aggressive','ruthless','accident','charming','young','mr','corporation'])\n",
    "females = set(['she','girl','girls', 'hers', 'her', 'herself', 'mother', 'sister', 'aunt', 'half-sister', 'halfsister', 'daughter', 'girl', 'mom', 'grandmother', 'queen', 'niece', 'actress', 'stewardess', 'barmaid', 'bride', 'chairwoman', 'lady', 'headmistress', 'heroine', 'hostess', 'wife', 'landlady', 'lady', 'nun', 'princess','waitress', 'widow', 'dear', 'little', 'businesswoman','impure','forest','abducted','marries','purity','listen','earth','furrow','goddess','woman','female','women','dedication', 'self-sacrifice','wifely', 'womanly', 'virtues','fertile','feminine','doctor','caring','cute','tender','young','cute','slave','beautiful','mrs'])"
   ]
  },
  {
   "cell_type": "markdown",
   "metadata": {},
   "source": [
    "I would like to mention again that the accuracy of model can be improved by expanding the above datasets.\n",
    "\n",
    "### Make the predictions and display the result"
   ]
  },
  {
   "cell_type": "code",
   "execution_count": null,
   "metadata": {},
   "outputs": [],
   "source": [
    "for o, name in enumerate(names):\n",
    "    name = name.strip().lower()\n",
    "\n",
    "    pos_list = [i for i, x in enumerate(corpus) if x == name]\n",
    "    \n",
    "    male = 0\n",
    "    female = 0\n",
    "    for i in pos_list:\n",
    "        male += sum([corpus[i-25:i+25].count(w) for w in males])\n",
    "        female += sum([corpus[i-25:i+25].count(w) for w in females])\n",
    "    #print(male,female,end='\\n')\n",
    "    \n",
    "    if male > female:\n",
    "        print ('Male')\n",
    "    \n",
    "    else:\n",
    "        print ('Female')"
   ]
  },
  {
   "cell_type": "markdown",
   "metadata": {},
   "source": [
    "The above algoritm generates the output as explained above. This codes generates a best score of 32.62/50 on Hackerrank, which is unfortunately less than the passing score of 36.96. However, the accuracy of model can be improved by increasing the `males` and `females` sets.\n",
    "\n",
    "![Result](Capture.PNG)"
   ]
  },
  {
   "cell_type": "markdown",
   "metadata": {},
   "source": [
    "Note: The codes might not work on this notebook, as they have been optimized for Hackerrank Input/Output format. Please download the .py file to execute them."
   ]
  }
 ],
 "metadata": {
  "kernelspec": {
   "display_name": "Python 3",
   "language": "python",
   "name": "python3"
  },
  "language_info": {
   "codemirror_mode": {
    "name": "ipython",
    "version": 3
   },
   "file_extension": ".py",
   "mimetype": "text/x-python",
   "name": "python",
   "nbconvert_exporter": "python",
   "pygments_lexer": "ipython3",
   "version": "3.6.5"
  }
 },
 "nbformat": 4,
 "nbformat_minor": 2
}
